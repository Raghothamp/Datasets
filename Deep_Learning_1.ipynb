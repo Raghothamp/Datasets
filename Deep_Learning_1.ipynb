{
  "nbformat": 4,
  "nbformat_minor": 0,
  "metadata": {
    "colab": {
      "name": "Deep Learning 1.ipynb",
      "provenance": [],
      "collapsed_sections": [],
      "include_colab_link": true
    },
    "kernelspec": {
      "name": "python3",
      "display_name": "Python 3"
    }
  },
  "cells": [
    {
      "cell_type": "markdown",
      "metadata": {
        "id": "view-in-github",
        "colab_type": "text"
      },
      "source": [
        "<a href=\"https://colab.research.google.com/github/Raghothamp/Datasets/blob/master/Deep_Learning_1.ipynb\" target=\"_parent\"><img src=\"https://colab.research.google.com/assets/colab-badge.svg\" alt=\"Open In Colab\"/></a>"
      ]
    },
    {
      "cell_type": "code",
      "metadata": {
        "id": "uBk8EnHgdknU",
        "colab_type": "code",
        "colab": {}
      },
      "source": [
        "import pandas as pd\n",
        "import numpy as np\n",
        "import keras as ks\n",
        "import tensorflow as ts\n",
        "import matplotlib.pyplot as plt\n",
        "%matplotlib inline\n",
        "import seaborn as sns\n",
        "from keras.models import Sequential\n",
        "from keras.layers import Dense\n"
      ],
      "execution_count": 0,
      "outputs": []
    },
    {
      "cell_type": "code",
      "metadata": {
        "id": "NRUhFYnlSlF2",
        "colab_type": "code",
        "colab": {}
      },
      "source": [
        "X=np.linspace(1,-1,num=200)\n",
        "np.random.shuffle(X)\n",
        "y=2*X + np.random.randn(*X.shape)"
      ],
      "execution_count": 0,
      "outputs": []
    },
    {
      "cell_type": "code",
      "metadata": {
        "id": "V8xCDuBCq_Dy",
        "colab_type": "code",
        "outputId": "5ed79d46-992b-4f5e-aa91-082ea68d2e27",
        "colab": {
          "base_uri": "https://localhost:8080/",
          "height": 280
        }
      },
      "source": [
        "plt.scatter(X,y)\n",
        "plt.xlabel('X')\n",
        "plt.ylabel('y')\n",
        "plt.show()"
      ],
      "execution_count": 22,
      "outputs": [
        {
          "output_type": "display_data",
          "data": {
            "image/png": "[encoded data removed]",
            "text/plain": [
              "<Figure size 432x288 with 1 Axes>"
            ]
          },
          "metadata": {
            "tags": []
          }
        }
      ]
    },
    {
      "cell_type": "code",
      "metadata": {
        "id": "qNozTWOSv59K",
        "colab_type": "code",
        "colab": {}
      },
      "source": [
        "X_train,y_train = X[:160],y[:160]\n",
        "X_test,y_test = X[40:],y[40:]"
      ],
      "execution_count": 0,
      "outputs": []
    },
    {
      "cell_type": "code",
      "metadata": {
        "id": "fX2DOPAlxeBu",
        "colab_type": "code",
        "colab": {}
      },
      "source": [
        "model = Sequential()"
      ],
      "execution_count": 0,
      "outputs": []
    },
    {
      "cell_type": "code",
      "metadata": {
        "id": "UZMdP26nyo-7",
        "colab_type": "code",
        "colab": {}
      },
      "source": [
        "model.add(Dense(input_dim=1, units=1, activation='linear', kernel_initializer='uniform'))"
      ],
      "execution_count": 0,
      "outputs": []
    },
    {
      "cell_type": "code",
      "metadata": {
        "id": "UeZ1D76FA4Ny",
        "colab_type": "code",
        "colab": {}
      },
      "source": [
        "model.compile(loss='mse',optimizer='sgd')"
      ],
      "execution_count": 0,
      "outputs": []
    },
    {
      "cell_type": "code",
      "metadata": {
        "id": "Dqnsv6leB0xT",
        "colab_type": "code",
        "outputId": "a1931dc4-0514-4c8c-c1e2-f44b7484926b",
        "colab": {
          "base_uri": "https://localhost:8080/",
          "height": 35
        }
      },
      "source": [
        "weights = model.layers[0].get_weights()\n",
        "w_init = weights[0][0][0]\n",
        "b_init = weights[1][0]\n",
        "print(\"Linear regression is intialized with weight w= %.2f and b = %.2f\" % (w_init,b_init))"
      ],
      "execution_count": 27,
      "outputs": [
        {
          "output_type": "stream",
          "text": [
            "Linear regression is intialized with weight w= -0.04 and b = 0.00\n"
          ],
          "name": "stdout"
        }
      ]
    },
    {
      "cell_type": "code",
      "metadata": {
        "id": "JyCcNcZ1mbHt",
        "colab_type": "code",
        "outputId": "36ca26bc-94d8-46b6-a317-041f99063c20",
        "colab": {
          "base_uri": "https://localhost:8080/",
          "height": 191
        }
      },
      "source": [
        "model.compile(loss='mse',optimizer = 'sgd', metrics= ['accuracy'])\n",
        "model.summary()"
      ],
      "execution_count": 28,
      "outputs": [
        {
          "output_type": "stream",
          "text": [
            "Model: \"sequential_3\"\n",
            "_________________________________________________________________\n",
            "Layer (type)                 Output Shape              Param #   \n",
            "=================================================================\n",
            "dense_5 (Dense)              (None, 1)                 2         \n",
            "=================================================================\n",
            "Total params: 2\n",
            "Trainable params: 2\n",
            "Non-trainable params: 0\n",
            "_________________________________________________________________\n"
          ],
          "name": "stdout"
        }
      ]
    },
    {
      "cell_type": "code",
      "metadata": {
        "id": "W4VRYzSS0HX0",
        "colab_type": "code",
        "outputId": "dd999c67-3f52-4266-eda4-a9f149f505e2",
        "colab": {
          "base_uri": "https://localhost:8080/",
          "height": 1000
        }
      },
      "source": [
        "model.fit(X_train,y_test,epochs = 100,verbose = 1)"
      ],
      "execution_count": 29,
      "outputs": [
        {
          "output_type": "stream",
          "text": [
            "Epoch 1/100\n",
            "160/160 [==============================] - 0s 522us/step - loss: 2.2220 - acc: 0.0000e+00\n",
            "Epoch 2/100\n",
            "160/160 [==============================] - 0s 39us/step - loss: 2.2174 - acc: 0.0000e+00\n",
            "Epoch 3/100\n",
            "160/160 [==============================] - 0s 38us/step - loss: 2.2095 - acc: 0.0000e+00\n",
            "Epoch 4/100\n",
            "160/160 [==============================] - 0s 40us/step - loss: 2.2049 - acc: 0.0000e+00\n",
            "Epoch 5/100\n",
            "160/160 [==============================] - 0s 42us/step - loss: 2.2013 - acc: 0.0000e+00\n",
            "Epoch 6/100\n",
            "160/160 [==============================] - 0s 39us/step - loss: 2.1974 - acc: 0.0000e+00\n",
            "Epoch 7/100\n",
            "160/160 [==============================] - 0s 54us/step - loss: 2.1937 - acc: 0.0000e+00\n",
            "Epoch 8/100\n",
            "160/160 [==============================] - 0s 55us/step - loss: 2.1903 - acc: 0.0000e+00\n",
            "Epoch 9/100\n",
            "160/160 [==============================] - 0s 57us/step - loss: 2.1881 - acc: 0.0000e+00\n",
            "Epoch 10/100\n",
            "160/160 [==============================] - 0s 56us/step - loss: 2.1860 - acc: 0.0000e+00\n",
            "Epoch 11/100\n",
            "160/160 [==============================] - 0s 40us/step - loss: 2.1849 - acc: 0.0000e+00\n",
            "Epoch 12/100\n",
            "160/160 [==============================] - 0s 37us/step - loss: 2.1823 - acc: 0.0000e+00\n",
            "Epoch 13/100\n",
            "160/160 [==============================] - 0s 36us/step - loss: 2.1802 - acc: 0.0000e+00\n",
            "Epoch 14/100\n",
            "160/160 [==============================] - 0s 62us/step - loss: 2.1787 - acc: 0.0000e+00\n",
            "Epoch 15/100\n",
            "160/160 [==============================] - 0s 49us/step - loss: 2.1774 - acc: 0.0000e+00\n",
            "Epoch 16/100\n",
            "160/160 [==============================] - 0s 43us/step - loss: 2.1773 - acc: 0.0000e+00\n",
            "Epoch 17/100\n",
            "160/160 [==============================] - 0s 48us/step - loss: 2.1759 - acc: 0.0000e+00\n",
            "Epoch 18/100\n",
            "160/160 [==============================] - 0s 43us/step - loss: 2.1755 - acc: 0.0000e+00\n",
            "Epoch 19/100\n",
            "160/160 [==============================] - 0s 48us/step - loss: 2.1727 - acc: 0.0000e+00\n",
            "Epoch 20/100\n",
            "160/160 [==============================] - 0s 45us/step - loss: 2.1717 - acc: 0.0000e+00\n",
            "Epoch 21/100\n",
            "160/160 [==============================] - 0s 45us/step - loss: 2.1745 - acc: 0.0000e+00\n",
            "Epoch 22/100\n",
            "160/160 [==============================] - 0s 43us/step - loss: 2.1719 - acc: 0.0000e+00\n",
            "Epoch 23/100\n",
            "160/160 [==============================] - 0s 44us/step - loss: 2.1706 - acc: 0.0000e+00\n",
            "Epoch 24/100\n",
            "160/160 [==============================] - 0s 48us/step - loss: 2.1692 - acc: 0.0000e+00\n",
            "Epoch 25/100\n",
            "160/160 [==============================] - 0s 48us/step - loss: 2.1695 - acc: 0.0000e+00\n",
            "Epoch 26/100\n",
            "160/160 [==============================] - 0s 44us/step - loss: 2.1690 - acc: 0.0000e+00\n",
            "Epoch 27/100\n",
            "160/160 [==============================] - 0s 45us/step - loss: 2.1680 - acc: 0.0000e+00\n",
            "Epoch 28/100\n",
            "160/160 [==============================] - 0s 48us/step - loss: 2.1676 - acc: 0.0000e+00\n",
            "Epoch 29/100\n",
            "160/160 [==============================] - 0s 51us/step - loss: 2.1675 - acc: 0.0000e+00\n",
            "Epoch 30/100\n",
            "160/160 [==============================] - 0s 55us/step - loss: 2.1663 - acc: 0.0000e+00\n",
            "Epoch 31/100\n",
            "160/160 [==============================] - 0s 51us/step - loss: 2.1667 - acc: 0.0000e+00\n",
            "Epoch 32/100\n",
            "160/160 [==============================] - 0s 49us/step - loss: 2.1677 - acc: 0.0000e+00\n",
            "Epoch 33/100\n",
            "160/160 [==============================] - 0s 49us/step - loss: 2.1664 - acc: 0.0000e+00\n",
            "Epoch 34/100\n",
            "160/160 [==============================] - 0s 52us/step - loss: 2.1650 - acc: 0.0000e+00\n",
            "Epoch 35/100\n",
            "160/160 [==============================] - 0s 49us/step - loss: 2.1667 - acc: 0.0000e+00\n",
            "Epoch 36/100\n",
            "160/160 [==============================] - 0s 44us/step - loss: 2.1649 - acc: 0.0000e+00\n",
            "Epoch 37/100\n",
            "160/160 [==============================] - 0s 47us/step - loss: 2.1660 - acc: 0.0000e+00\n",
            "Epoch 38/100\n",
            "160/160 [==============================] - 0s 46us/step - loss: 2.1661 - acc: 0.0000e+00\n",
            "Epoch 39/100\n",
            "160/160 [==============================] - 0s 47us/step - loss: 2.1639 - acc: 0.0000e+00\n",
            "Epoch 40/100\n",
            "160/160 [==============================] - 0s 50us/step - loss: 2.1641 - acc: 0.0000e+00\n",
            "Epoch 41/100\n",
            "160/160 [==============================] - 0s 48us/step - loss: 2.1638 - acc: 0.0000e+00\n",
            "Epoch 42/100\n",
            "160/160 [==============================] - 0s 48us/step - loss: 2.1631 - acc: 0.0000e+00\n",
            "Epoch 43/100\n",
            "160/160 [==============================] - 0s 46us/step - loss: 2.1629 - acc: 0.0000e+00\n",
            "Epoch 44/100\n",
            "160/160 [==============================] - 0s 65us/step - loss: 2.1649 - acc: 0.0000e+00\n",
            "Epoch 45/100\n",
            "160/160 [==============================] - 0s 49us/step - loss: 2.1630 - acc: 0.0000e+00\n",
            "Epoch 46/100\n",
            "160/160 [==============================] - 0s 49us/step - loss: 2.1635 - acc: 0.0000e+00\n",
            "Epoch 47/100\n",
            "160/160 [==============================] - 0s 47us/step - loss: 2.1638 - acc: 0.0000e+00\n",
            "Epoch 48/100\n",
            "160/160 [==============================] - 0s 50us/step - loss: 2.1644 - acc: 0.0000e+00\n",
            "Epoch 49/100\n",
            "160/160 [==============================] - 0s 50us/step - loss: 2.1634 - acc: 0.0000e+00\n",
            "Epoch 50/100\n",
            "160/160 [==============================] - 0s 46us/step - loss: 2.1626 - acc: 0.0000e+00\n",
            "Epoch 51/100\n",
            "160/160 [==============================] - 0s 45us/step - loss: 2.1629 - acc: 0.0000e+00\n",
            "Epoch 52/100\n",
            "160/160 [==============================] - 0s 49us/step - loss: 2.1620 - acc: 0.0000e+00\n",
            "Epoch 53/100\n",
            "160/160 [==============================] - 0s 53us/step - loss: 2.1624 - acc: 0.0000e+00\n",
            "Epoch 54/100\n",
            "160/160 [==============================] - 0s 51us/step - loss: 2.1631 - acc: 0.0000e+00\n",
            "Epoch 55/100\n",
            "160/160 [==============================] - 0s 50us/step - loss: 2.1621 - acc: 0.0000e+00\n",
            "Epoch 56/100\n",
            "160/160 [==============================] - 0s 48us/step - loss: 2.1624 - acc: 0.0000e+00\n",
            "Epoch 57/100\n",
            "160/160 [==============================] - 0s 44us/step - loss: 2.1621 - acc: 0.0000e+00\n",
            "Epoch 58/100\n",
            "160/160 [==============================] - 0s 49us/step - loss: 2.1627 - acc: 0.0000e+00\n",
            "Epoch 59/100\n",
            "160/160 [==============================] - 0s 46us/step - loss: 2.1632 - acc: 0.0000e+00\n",
            "Epoch 60/100\n",
            "160/160 [==============================] - 0s 41us/step - loss: 2.1619 - acc: 0.0000e+00\n",
            "Epoch 61/100\n",
            "160/160 [==============================] - 0s 43us/step - loss: 2.1618 - acc: 0.0000e+00\n",
            "Epoch 62/100\n",
            "160/160 [==============================] - 0s 48us/step - loss: 2.1625 - acc: 0.0000e+00\n",
            "Epoch 63/100\n",
            "160/160 [==============================] - 0s 49us/step - loss: 2.1627 - acc: 0.0000e+00\n",
            "Epoch 64/100\n",
            "160/160 [==============================] - 0s 50us/step - loss: 2.1631 - acc: 0.0000e+00\n",
            "Epoch 65/100\n",
            "160/160 [==============================] - 0s 48us/step - loss: 2.1622 - acc: 0.0000e+00\n",
            "Epoch 66/100\n",
            "160/160 [==============================] - 0s 50us/step - loss: 2.1613 - acc: 0.0000e+00\n",
            "Epoch 67/100\n",
            "160/160 [==============================] - 0s 46us/step - loss: 2.1632 - acc: 0.0000e+00\n",
            "Epoch 68/100\n",
            "160/160 [==============================] - 0s 45us/step - loss: 2.1630 - acc: 0.0000e+00\n",
            "Epoch 69/100\n",
            "160/160 [==============================] - 0s 54us/step - loss: 2.1615 - acc: 0.0000e+00\n",
            "Epoch 70/100\n",
            "160/160 [==============================] - 0s 50us/step - loss: 2.1613 - acc: 0.0000e+00\n",
            "Epoch 71/100\n",
            "160/160 [==============================] - 0s 48us/step - loss: 2.1623 - acc: 0.0000e+00\n",
            "Epoch 72/100\n",
            "160/160 [==============================] - 0s 43us/step - loss: 2.1631 - acc: 0.0000e+00\n",
            "Epoch 73/100\n",
            "160/160 [==============================] - 0s 61us/step - loss: 2.1612 - acc: 0.0000e+00\n",
            "Epoch 74/100\n",
            "160/160 [==============================] - 0s 44us/step - loss: 2.1611 - acc: 0.0000e+00\n",
            "Epoch 75/100\n",
            "160/160 [==============================] - 0s 41us/step - loss: 2.1625 - acc: 0.0000e+00\n",
            "Epoch 76/100\n",
            "160/160 [==============================] - 0s 44us/step - loss: 2.1608 - acc: 0.0000e+00\n",
            "Epoch 77/100\n",
            "160/160 [==============================] - 0s 45us/step - loss: 2.1613 - acc: 0.0000e+00\n",
            "Epoch 78/100\n",
            "160/160 [==============================] - 0s 43us/step - loss: 2.1618 - acc: 0.0000e+00\n",
            "Epoch 79/100\n",
            "160/160 [==============================] - 0s 48us/step - loss: 2.1611 - acc: 0.0000e+00\n",
            "Epoch 80/100\n",
            "160/160 [==============================] - 0s 44us/step - loss: 2.1618 - acc: 0.0000e+00\n",
            "Epoch 81/100\n",
            "160/160 [==============================] - 0s 44us/step - loss: 2.1624 - acc: 0.0000e+00\n",
            "Epoch 82/100\n",
            "160/160 [==============================] - 0s 46us/step - loss: 2.1617 - acc: 0.0000e+00\n",
            "Epoch 83/100\n",
            "160/160 [==============================] - 0s 49us/step - loss: 2.1615 - acc: 0.0000e+00\n",
            "Epoch 84/100\n",
            "160/160 [==============================] - 0s 45us/step - loss: 2.1615 - acc: 0.0000e+00\n",
            "Epoch 85/100\n",
            "160/160 [==============================] - 0s 50us/step - loss: 2.1608 - acc: 0.0000e+00\n",
            "Epoch 86/100\n",
            "160/160 [==============================] - 0s 51us/step - loss: 2.1624 - acc: 0.0000e+00\n",
            "Epoch 87/100\n",
            "160/160 [==============================] - 0s 50us/step - loss: 2.1618 - acc: 0.0000e+00\n",
            "Epoch 88/100\n",
            "160/160 [==============================] - 0s 50us/step - loss: 2.1615 - acc: 0.0000e+00\n",
            "Epoch 89/100\n",
            "160/160 [==============================] - 0s 39us/step - loss: 2.1619 - acc: 0.0000e+00\n",
            "Epoch 90/100\n",
            "160/160 [==============================] - 0s 41us/step - loss: 2.1616 - acc: 0.0000e+00\n",
            "Epoch 91/100\n",
            "160/160 [==============================] - 0s 50us/step - loss: 2.1618 - acc: 0.0000e+00\n",
            "Epoch 92/100\n",
            "160/160 [==============================] - 0s 37us/step - loss: 2.1641 - acc: 0.0000e+00\n",
            "Epoch 93/100\n",
            "160/160 [==============================] - 0s 39us/step - loss: 2.1606 - acc: 0.0000e+00\n",
            "Epoch 94/100\n",
            "160/160 [==============================] - 0s 52us/step - loss: 2.1623 - acc: 0.0000e+00\n",
            "Epoch 95/100\n",
            "160/160 [==============================] - 0s 54us/step - loss: 2.1608 - acc: 0.0000e+00\n",
            "Epoch 96/100\n",
            "160/160 [==============================] - 0s 51us/step - loss: 2.1610 - acc: 0.0000e+00\n",
            "Epoch 97/100\n",
            "160/160 [==============================] - 0s 49us/step - loss: 2.1613 - acc: 0.0000e+00\n",
            "Epoch 98/100\n",
            "160/160 [==============================] - 0s 51us/step - loss: 2.1622 - acc: 0.0000e+00\n",
            "Epoch 99/100\n",
            "160/160 [==============================] - 0s 45us/step - loss: 2.1616 - acc: 0.0000e+00\n",
            "Epoch 100/100\n",
            "160/160 [==============================] - 0s 48us/step - loss: 2.1614 - acc: 0.0000e+00\n"
          ],
          "name": "stdout"
        },
        {
          "output_type": "execute_result",
          "data": {
            "text/plain": [
              "<keras.callbacks.History at 0x7f58a9827ef0>"
            ]
          },
          "metadata": {
            "tags": []
          },
          "execution_count": 29
        }
      ]
    },
    {
      "cell_type": "code",
      "metadata": {
        "id": "lbGHKPo53nBl",
        "colab_type": "code",
        "outputId": "d1201874-eda6-4ff5-9e68-e024636d6b70",
        "colab": {
          "base_uri": "https://localhost:8080/",
          "height": 87
        }
      },
      "source": [
        "cost = model.evaluate(X_test,y_test,batch_size=40)\n",
        "print(\"Test cost:\",cost)\n",
        "W , b = model.layers[0].get_weights()\n",
        "print(\"Weights=\",W,'\\nBias=',b)"
      ],
      "execution_count": 30,
      "outputs": [
        {
          "output_type": "stream",
          "text": [
            "160/160 [==============================] - 0s 237us/step\n",
            "Test cost: [2.7258131206035614, 0.0]\n",
            "Weights= [[-0.38119757]] \n",
            "Bias= [0.1360011]\n"
          ],
          "name": "stdout"
        }
      ]
    },
    {
      "cell_type": "code",
      "metadata": {
        "id": "d4bYd3ah6CmO",
        "colab_type": "code",
        "colab": {}
      },
      "source": [
        "pred = W*X_test + b\n",
        "pred=pred.reshape(-1,1)"
      ],
      "execution_count": 0,
      "outputs": []
    },
    {
      "cell_type": "code",
      "metadata": {
        "id": "wm4QMQKO6d9Y",
        "colab_type": "code",
        "outputId": "6d3806c3-bb3c-4c16-fce1-e789f9ff0e34",
        "colab": {
          "base_uri": "https://localhost:8080/",
          "height": 297
        }
      },
      "source": [
        "plt.scatter(X_test,y_test)\n",
        "plt.plot(X_train,w_init*X_train+b_init,label='initial')\n",
        "plt.plot(X_test,pred,label='prediction')\n",
        "plt.xlabel('X')\n",
        "plt.ylabel('Y')\n",
        "\n"
      ],
      "execution_count": 32,
      "outputs": [
        {
          "output_type": "execute_result",
          "data": {
            "text/plain": [
              "Text(0, 0.5, 'Y')"
            ]
          },
          "metadata": {
            "tags": []
          },
          "execution_count": 32
        },
        {
          "output_type": "display_data",
          "data": {
            "image/png": "[encoded data removed]",
            "text/plain": [
              "<Figure size 432x288 with 1 Axes>"
            ]
          },
          "metadata": {
            "tags": []
          }
        }
      ]
    },
    {
      "cell_type": "code",
      "metadata": {
        "id": "ltQd2ly464rw",
        "colab_type": "code",
        "colab": {
          "base_uri": "https://localhost:8080/",
          "height": 260
        },
        "outputId": "4cb3ef9c-7a90-4bed-928e-ac68dde02eb9"
      },
      "source": [
        "model = Sequential()\n",
        "model.add(Dense(4,input_dim = 2, activation ='relu'))\n",
        "model.add(Dense(4,activation = 'relu'))\n",
        "model.add(Dense(1,activation = 'sigmoid'))\n",
        "model.compile(loss='binary_crossentropy',optimizer = 'adam',metric = ['accuracy'])\n",
        "model.summary()"
      ],
      "execution_count": 38,
      "outputs": [
        {
          "output_type": "stream",
          "text": [
            "Model: \"sequential_7\"\n",
            "_________________________________________________________________\n",
            "Layer (type)                 Output Shape              Param #   \n",
            "=================================================================\n",
            "dense_14 (Dense)             (None, 4)                 12        \n",
            "_________________________________________________________________\n",
            "dense_15 (Dense)             (None, 4)                 20        \n",
            "_________________________________________________________________\n",
            "dense_16 (Dense)             (None, 1)                 5         \n",
            "=================================================================\n",
            "Total params: 37\n",
            "Trainable params: 37\n",
            "Non-trainable params: 0\n",
            "_________________________________________________________________\n"
          ],
          "name": "stdout"
        }
      ]
    },
    {
      "cell_type": "code",
      "metadata": {
        "id": "YapgzAhA8kEF",
        "colab_type": "code",
        "colab": {
          "base_uri": "https://localhost:8080/",
          "height": 401
        },
        "outputId": "be767522-e07f-4d01-a6e9-06a6f6375d69"
      },
      "source": [
        "weights = model.layers[0].get_weights()\n",
        "w_init= weights[0]\n",
        "b_init = weights[1]\n",
        "print(\"Logistic regression model is initialised with weights : {} and Bias: {}\" .format(w_init,b_init))\n",
        "history = model.fit(X_train,y_train,epochs = 100, verbose = 1)"
      ],
      "execution_count": 39,
      "outputs": [
        {
          "output_type": "stream",
          "text": [
            "Logistic regression model is initialised with weights : [[ 0.23388791  0.0843091   0.8023875   0.02464867]\n",
            " [-0.99860406  0.53092813 -0.7716994  -0.49537683]] and Bias: [0. 0. 0. 0.]\n"
          ],
          "name": "stdout"
        },
        {
          "output_type": "error",
          "ename": "ValueError",
          "evalue": "ignored",
          "traceback": [
            "\u001b[0;31m---------------------------------------------------------------------------\u001b[0m",
            "\u001b[0;31mValueError\u001b[0m                                Traceback (most recent call last)",
            "\u001b[0;32m<ipython-input-39-413513361254>\u001b[0m in \u001b[0;36m<module>\u001b[0;34m()\u001b[0m\n\u001b[1;32m      3\u001b[0m \u001b[0mb_init\u001b[0m \u001b[0;34m=\u001b[0m \u001b[0mweights\u001b[0m\u001b[0;34m[\u001b[0m\u001b[0;36m1\u001b[0m\u001b[0;34m]\u001b[0m\u001b[0;34m\u001b[0m\u001b[0;34m\u001b[0m\u001b[0m\n\u001b[1;32m      4\u001b[0m \u001b[0mprint\u001b[0m\u001b[0;34m(\u001b[0m\u001b[0;34m\"Logistic regression model is initialised with weights : {} and Bias: {}\"\u001b[0m \u001b[0;34m.\u001b[0m\u001b[0mformat\u001b[0m\u001b[0;34m(\u001b[0m\u001b[0mw_init\u001b[0m\u001b[0;34m,\u001b[0m\u001b[0mb_init\u001b[0m\u001b[0;34m)\u001b[0m\u001b[0;34m)\u001b[0m\u001b[0;34m\u001b[0m\u001b[0;34m\u001b[0m\u001b[0m\n\u001b[0;32m----> 5\u001b[0;31m \u001b[0mhistory\u001b[0m \u001b[0;34m=\u001b[0m \u001b[0mmodel\u001b[0m\u001b[0;34m.\u001b[0m\u001b[0mfit\u001b[0m\u001b[0;34m(\u001b[0m\u001b[0mX_train\u001b[0m\u001b[0;34m,\u001b[0m\u001b[0my_train\u001b[0m\u001b[0;34m,\u001b[0m\u001b[0mepochs\u001b[0m \u001b[0;34m=\u001b[0m \u001b[0;36m100\u001b[0m\u001b[0;34m,\u001b[0m \u001b[0mverbose\u001b[0m \u001b[0;34m=\u001b[0m \u001b[0;36m1\u001b[0m\u001b[0;34m)\u001b[0m\u001b[0;34m\u001b[0m\u001b[0;34m\u001b[0m\u001b[0m\n\u001b[0m",
            "\u001b[0;32m/usr/local/lib/python3.6/dist-packages/keras/engine/training.py\u001b[0m in \u001b[0;36mfit\u001b[0;34m(self, x, y, batch_size, epochs, verbose, callbacks, validation_split, validation_data, shuffle, class_weight, sample_weight, initial_epoch, steps_per_epoch, validation_steps, validation_freq, max_queue_size, workers, use_multiprocessing, **kwargs)\u001b[0m\n\u001b[1;32m   1087\u001b[0m             \u001b[0msample_weight\u001b[0m\u001b[0;34m=\u001b[0m\u001b[0msample_weight\u001b[0m\u001b[0;34m,\u001b[0m\u001b[0;34m\u001b[0m\u001b[0;34m\u001b[0m\u001b[0m\n\u001b[1;32m   1088\u001b[0m             \u001b[0mclass_weight\u001b[0m\u001b[0;34m=\u001b[0m\u001b[0mclass_weight\u001b[0m\u001b[0;34m,\u001b[0m\u001b[0;34m\u001b[0m\u001b[0;34m\u001b[0m\u001b[0m\n\u001b[0;32m-> 1089\u001b[0;31m             batch_size=batch_size)\n\u001b[0m\u001b[1;32m   1090\u001b[0m \u001b[0;34m\u001b[0m\u001b[0m\n\u001b[1;32m   1091\u001b[0m         \u001b[0;31m# Prepare validation data.\u001b[0m\u001b[0;34m\u001b[0m\u001b[0;34m\u001b[0m\u001b[0;34m\u001b[0m\u001b[0m\n",
            "\u001b[0;32m/usr/local/lib/python3.6/dist-packages/keras/engine/training.py\u001b[0m in \u001b[0;36m_standardize_user_data\u001b[0;34m(self, x, y, sample_weight, class_weight, check_array_lengths, batch_size)\u001b[0m\n\u001b[1;32m    755\u001b[0m             \u001b[0mfeed_input_shapes\u001b[0m\u001b[0;34m,\u001b[0m\u001b[0;34m\u001b[0m\u001b[0;34m\u001b[0m\u001b[0m\n\u001b[1;32m    756\u001b[0m             \u001b[0mcheck_batch_axis\u001b[0m\u001b[0;34m=\u001b[0m\u001b[0;32mFalse\u001b[0m\u001b[0;34m,\u001b[0m  \u001b[0;31m# Don't enforce the batch size.\u001b[0m\u001b[0;34m\u001b[0m\u001b[0;34m\u001b[0m\u001b[0m\n\u001b[0;32m--> 757\u001b[0;31m             exception_prefix='input')\n\u001b[0m\u001b[1;32m    758\u001b[0m \u001b[0;34m\u001b[0m\u001b[0m\n\u001b[1;32m    759\u001b[0m         \u001b[0;32mif\u001b[0m \u001b[0my\u001b[0m \u001b[0;32mis\u001b[0m \u001b[0;32mnot\u001b[0m \u001b[0;32mNone\u001b[0m\u001b[0;34m:\u001b[0m\u001b[0;34m\u001b[0m\u001b[0;34m\u001b[0m\u001b[0m\n",
            "\u001b[0;32m/usr/local/lib/python3.6/dist-packages/keras/engine/training_utils.py\u001b[0m in \u001b[0;36mstandardize_input_data\u001b[0;34m(data, names, shapes, check_batch_axis, exception_prefix)\u001b[0m\n\u001b[1;32m    139\u001b[0m                             \u001b[0;34m': expected '\u001b[0m \u001b[0;34m+\u001b[0m \u001b[0mnames\u001b[0m\u001b[0;34m[\u001b[0m\u001b[0mi\u001b[0m\u001b[0;34m]\u001b[0m \u001b[0;34m+\u001b[0m \u001b[0;34m' to have shape '\u001b[0m \u001b[0;34m+\u001b[0m\u001b[0;34m\u001b[0m\u001b[0;34m\u001b[0m\u001b[0m\n\u001b[1;32m    140\u001b[0m                             \u001b[0mstr\u001b[0m\u001b[0;34m(\u001b[0m\u001b[0mshape\u001b[0m\u001b[0;34m)\u001b[0m \u001b[0;34m+\u001b[0m \u001b[0;34m' but got array with shape '\u001b[0m \u001b[0;34m+\u001b[0m\u001b[0;34m\u001b[0m\u001b[0;34m\u001b[0m\u001b[0m\n\u001b[0;32m--> 141\u001b[0;31m                             str(data_shape))\n\u001b[0m\u001b[1;32m    142\u001b[0m     \u001b[0;32mreturn\u001b[0m \u001b[0mdata\u001b[0m\u001b[0;34m\u001b[0m\u001b[0;34m\u001b[0m\u001b[0m\n\u001b[1;32m    143\u001b[0m \u001b[0;34m\u001b[0m\u001b[0m\n",
            "\u001b[0;31mValueError\u001b[0m: Error when checking input: expected dense_14_input to have shape (2,) but got array with shape (1,)"
          ]
        }
      ]
    }
  ]
}